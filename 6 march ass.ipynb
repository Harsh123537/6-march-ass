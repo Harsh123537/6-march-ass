{
 "cells": [
  {
   "cell_type": "markdown",
   "id": "87049cf5-199c-4da7-abac-542992849c22",
   "metadata": {},
   "source": [
    "What is Statistics?"
   ]
  },
  {
   "cell_type": "markdown",
   "id": "c330db10-3094-41ae-972a-a5fad9f19f23",
   "metadata": {},
   "source": [
    "Statistics is a branch of mathematics that deals with the collection, analysis, interpretation, presentation, and organization of data. It provides methods for summarizing and describing data, making inferences and predictions based on data, and testing hypotheses and models using statistical techniques."
   ]
  },
  {
   "cell_type": "markdown",
   "id": "05804b28-e3a9-4de7-a958-89acfb73654d",
   "metadata": {},
   "source": [
    "Q2. Define the different types of statistics and give an example of when each type might be used."
   ]
  },
  {
   "cell_type": "markdown",
   "id": "c9231d5f-68e5-4e2a-b2b7-4f67a3a1c888",
   "metadata": {},
   "source": [
    "There are two main types of statistics: descriptive statistics and inferential statistics.\n",
    "\n",
    "Descriptive statistics:\n",
    "Descriptive statistics involves the analysis of data to summarize and describe its main characteristics such as central tendency, variability, and distribution. Descriptive statistics can be used to provide a clear and concise summary of data, which can help in understanding and interpreting the data. Examples of descriptive statistics include mean, median, mode, standard deviation, range, and frequency distribution. For instance, if a researcher wants to describe the average height of a group of people, they would use descriptive statistics such as mean or median to summarize the data.\n",
    "\n",
    "Inferential statistics:\n",
    "Inferential statistics involves making inferences and predictions about a population based on a sample of data. Inferential statistics can be used to test hypotheses, make predictions, and draw conclusions about a population. Examples of inferential statistics include hypothesis testing, regression analysis, analysis of variance (ANOVA), and confidence intervals. For instance, if a researcher wants to test whether a new drug is effective in treating a particular disease, they would use inferential statistics such as hypothesis testing to make a conclusion about the effectiveness of the drug based on a sample of patients."
   ]
  },
  {
   "cell_type": "markdown",
   "id": "12df2a7e-0a35-4676-bd53-6a1b692feb88",
   "metadata": {},
   "source": [
    "Q3. What are the different types of data and how do they differ from each other? Provide an example of\n",
    "each type of data."
   ]
  },
  {
   "cell_type": "markdown",
   "id": "6bb7b06d-f6c0-454a-b652-1b920f9b03f6",
   "metadata": {},
   "source": [
    "1)Nominal\n",
    "\n",
    "These are the set of values that don’t possess a natural ordering. Let’s understand this with some examples. The color of a smartphone can be considered as a nominal data type as we can’t compare one color with others.\n",
    "\n",
    "2)Ordinal\n",
    "\n",
    "These types of values have a natural ordering while maintaining their class of values. If we consider the size of a clothing brand then we can easily sort them according to their name tag in the order of small < medium < large. The grading system while marking candidates in a test can also be considered as an ordinal data type where A+ is definitely better than B grade.\n",
    "\n",
    "3)Discrete\n",
    "\n",
    "The numerical values which fall under are integers or whole numbers are placed under this category. The number of speakers in the phone, cameras, cores in the processor, the number of sims supported all these are some of the examples of the discrete data type.\n",
    "\n",
    "4)Continuous\n",
    " \n",
    " The fractional numbers are considered as continuous values. These can take the form of the operating frequency of the processors, the android version of the phone, wifi frequency, temperature of the cores, and so on.\n"
   ]
  },
  {
   "cell_type": "markdown",
   "id": "e0b9b177-c2ff-45c3-ae05-445a2bc127fe",
   "metadata": {},
   "source": [
    "Q4. Categorise the following datasets with respect to quantitative and qualitative data types:\n",
    "(i) Grading in exam: A+, A, B+, B, C+, C, D, E\n",
    "(ii) Colour of mangoes: yellow, green, orange, red\n",
    "(iii) Height data of a class: [178.9, 179, 179.5, 176, 177.2, 178.3, 175.8,...]\n",
    "(iv) Number of mangoes exported by a farm: [500, 600, 478, 672, ...]"
   ]
  },
  {
   "cell_type": "markdown",
   "id": "fec41a9f-1e7e-4f7a-b196-8429ee554e7b",
   "metadata": {},
   "source": [
    "(i) Grading in exam: A+, A, B+, B, C+, C, D, E - Ordinal data\n",
    "\n",
    "(ii) Colour of mangoes: yellow, green, orange, red - Nominal data\n",
    "\n",
    "(iii) Height data of a class: [178.9, 179, 179.5, 176, 177.2, 178.3, 175.8,...] - Continuous data\n",
    "\n",
    "(iv) Number of mangoes exported by a farm: [500, 600, 478, 672, ...] - Discrete data"
   ]
  },
  {
   "cell_type": "markdown",
   "id": "4db99c5a-153b-495d-adc9-977e4edfee56",
   "metadata": {},
   "source": [
    "Q5. Explain the concept of levels of measurement and give an example of a variable for each level."
   ]
  },
  {
   "cell_type": "markdown",
   "id": "502e98ca-536d-4973-a4d3-b59616e50769",
   "metadata": {},
   "source": [
    "Levels of measurement, also known as scales of measurement, refer to the different ways in which variables can be measured and classified in statistics. There are four levels of measurement: nominal, ordinal, interval, and ratio.\n",
    "\n",
    "Nominal level of measurement: Variables at the nominal level of measurement are categorical and can only be classified into distinct groups or categories. Nominal variables are characterized by the absence of any numerical or quantitative significance or order. Examples of nominal variables include gender (male/female), eye color (blue/brown/green), or nationality (American/British/Canadian).\n",
    "\n",
    "Ordinal level of measurement: Variables at the ordinal level of measurement can be ordered or ranked according to some criteria, but the distance between the categories is not equal or meaningful. Ordinal variables are characterized by the presence of an order, but the difference between categories is not the same. Examples of ordinal variables include ranking (first/second/third), Likert scales (strongly agree/agree/neutral/disagree/strongly disagree), or education level (high school diploma/bachelor's degree/master's degree).\n",
    "\n",
    "Interval level of measurement: Variables at the interval level of measurement are numerical and have a meaningful distance between the values, but there is no true zero point. Interval variables are characterized by the presence of an equal interval between values, but there is no meaningful zero point. Examples of interval variables include temperature measured in Celsius or Fahrenheit, or dates measured on the calendar.\n",
    "\n",
    "Ratio level of measurement: Variables at the ratio level of measurement are numerical and have a meaningful absolute zero point, which allows for meaningful ratios between values. Ratio variables are characterized by the presence of an absolute zero point, which represents the absence of the measured attribute. Examples of ratio variables include height, weight, or income."
   ]
  },
  {
   "cell_type": "markdown",
   "id": "81db9025-7d75-4e12-9907-79635a704329",
   "metadata": {},
   "source": [
    "Q6. Why is it important to understand the level of measurement when analyzing data? Provide an\n",
    "example to illustrate your answer."
   ]
  },
  {
   "cell_type": "markdown",
   "id": "101f7413-4004-4eab-93de-8ed9b4584e25",
   "metadata": {},
   "source": [
    "Suppose we are analyzing a dataset that includes a variable indicating the weight of each participant. The variable can be measured at different levels of measurement:\n",
    "\n",
    "Nominal level: weight category (e.g. underweight, normal weight, overweight, obese)\n",
    "Ordinal level: BMI category (e.g. underweight, normal weight, overweight, obese)\n",
    "Interval level: weight measured in pounds or kilograms (e.g. 120 lbs, 70 kg)\n",
    "Ratio level: weight measured in pounds or kilograms with a true zero point (e.g. 0 lbs, 0 kg)\n",
    "If we wanted to compare the average weight of two different groups, such as men and women, we would need to use different statistical methods depending on the level of measurement of the weight variable.\n",
    "\n",
    "If weight were measured at the nominal level, we could only compare the proportions of men and women in each weight category between the two groups.\n",
    "\n",
    "If weight were measured at the ordinal level, we could calculate the median weight category for each group and compare them.\n",
    "\n",
    "If weight were measured at the interval level, we could calculate the mean weight for each group and use a t-test to compare the means.\n",
    "\n",
    "Finally, if weight were measured at the ratio level, we could again calculate the mean weight for each group and use a t-test or a more powerful statistical test to compare the means."
   ]
  },
  {
   "cell_type": "markdown",
   "id": "8be5cd0f-882e-4cd9-900d-6aec055c08c8",
   "metadata": {},
   "source": [
    "Q7. How nominal data type is different from ordinal data type."
   ]
  },
  {
   "cell_type": "markdown",
   "id": "f41c4d0a-92b1-4dff-8abd-6d91a1f2c12d",
   "metadata": {},
   "source": [
    "The main difference between nominal and ordinal data is that nominal data only involves categories or names that have no inherent order or ranking, whereas ordinal data involves categories that have a specific order or ranking. In nominal data, the categories can be arranged in any order, whereas in ordinal data, the categories must be arranged in a specific order or ranking."
   ]
  },
  {
   "cell_type": "markdown",
   "id": "44bc7ea5-05df-4553-bbca-1d62ee65d1fa",
   "metadata": {},
   "source": [
    "Q8. Which type of plot can be used to display data in terms of range?"
   ]
  },
  {
   "cell_type": "markdown",
   "id": "d0b60eb3-70bc-46bd-81e8-298e681900dc",
   "metadata": {},
   "source": [
    "A type of plot that can be used to display data in terms of range is a box plot, also known as a box-and-whisker plot."
   ]
  },
  {
   "cell_type": "markdown",
   "id": "fd5faf83-d516-4ecb-a6ca-e5809c7ed6d3",
   "metadata": {},
   "source": [
    "Q9. Describe the difference between descriptive and inferential statistics. Give an example of each\n",
    "type of statistics and explain how they are used."
   ]
  },
  {
   "cell_type": "markdown",
   "id": "c81f4f2a-e73c-4000-8634-66cd8088e8e6",
   "metadata": {},
   "source": [
    "Descriptive statistics refers to methods of summarizing and describing a set of data. It involves measures of central tendency (such as mean, median, and mode) and measures of variability (such as range, variance, and standard deviation) to provide a clear and concise summary of the data. Descriptive statistics can be used to provide insights into the characteristics of a dataset, such as its distribution, skewness, and kurtosis.\n",
    "\n",
    "For example, if we have a dataset of the heights of students in a class, we can use descriptive statistics to calculate the mean height, median height, range, and standard deviation of the data. This information can help us understand the distribution of heights in the class and provide a summary of the data.\n",
    "\n",
    "Inferential statistics, on the other hand, involves making inferences or conclusions about a population based on a sample of data. It involves using probability theory to make predictions or test hypotheses about the population. Inferential statistics can be used to estimate population parameters, such as the mean or proportion, and to test hypotheses about the population using methods such as hypothesis testing and confidence intervals.\n",
    "\n",
    "For example, if we want to know if the mean height of students in a class is different from the mean height of students in the entire school, we can use inferential statistics to test this hypothesis. We could take a sample of heights from the class and use statistical methods to test whether the difference in means is statistically significant."
   ]
  },
  {
   "cell_type": "markdown",
   "id": "e70ff125-f897-490c-b51f-31963904ffeb",
   "metadata": {},
   "source": [
    "Q10. What are some common measures of central tendency and variability used in statistics? Explain\n",
    "how each measure can be used to describe a dataset."
   ]
  },
  {
   "cell_type": "markdown",
   "id": "c99c4534-4d9b-4be5-8925-8f4ae3fc0378",
   "metadata": {},
   "source": [
    "Mean: The mean is the sum of all values in a dataset divided by the number of values. It is a common measure of central tendency used to represent the typical value in a dataset. The mean is sensitive to outliers and extreme values, so it may not be the best measure of central tendency for datasets with outliers.\n",
    "\n",
    "Median: The median is the middle value in a sorted dataset. It is a measure of central tendency that is less sensitive to outliers than the mean. The median is useful when the dataset contains extreme values or is skewed.\n",
    "\n",
    "Mode: The mode is the value that appears most frequently in a dataset. It is a measure of central tendency that is useful for describing categorical or nominal data.\n",
    "\n",
    "Range: The range is the difference between the largest and smallest values in a dataset. It is a measure of variability that provides information about the spread of the data. However, it is sensitive to outliers and extreme values.\n",
    "\n",
    "Variance: The variance is the average of the squared differences between each value in a dataset and the mean. It is a measure of variability that provides information about how spread out the data is. It is useful for datasets with a normal distribution.\n",
    "\n",
    "Standard deviation: The standard deviation is the square root of the variance. It is a measure of variability that is used to describe how much the values in a dataset deviate from the mean. It is useful for datasets with a normal distribution."
   ]
  },
  {
   "cell_type": "code",
   "execution_count": null,
   "id": "9418464f-2cbb-41dc-b9fe-79df02bf821e",
   "metadata": {},
   "outputs": [],
   "source": []
  }
 ],
 "metadata": {
  "kernelspec": {
   "display_name": "Python 3 (ipykernel)",
   "language": "python",
   "name": "python3"
  },
  "language_info": {
   "codemirror_mode": {
    "name": "ipython",
    "version": 3
   },
   "file_extension": ".py",
   "mimetype": "text/x-python",
   "name": "python",
   "nbconvert_exporter": "python",
   "pygments_lexer": "ipython3",
   "version": "3.10.8"
  }
 },
 "nbformat": 4,
 "nbformat_minor": 5
}
